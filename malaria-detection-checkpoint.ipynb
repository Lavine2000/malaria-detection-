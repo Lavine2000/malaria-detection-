{
 "cells": [
  {
   "cell_type": "markdown",
   "metadata": {},
   "source": [
    "## Importing the required libraries"
   ]
  },
  {
   "cell_type": "code",
   "execution_count": 1,
   "metadata": {},
   "outputs": [],
   "source": [
    "import os\n",
    "import tensorflow as tf\n",
    "from tensorflow import keras\n",
    "from tensorflow.keras import models\n",
    "from tensorflow.keras import layers\n",
    "from tensorflow.keras.preprocessing.image import ImageDataGenerator\n",
    "import matplotlib.pyplot as plt\n",
    "import numpy as np\n",
    "import itertools\n",
    "from sklearn.metrics import classification_report, confusion_matrix\n",
    "import numpy as np"
   ]
  },
  {
   "cell_type": "code",
   "execution_count": 2,
   "metadata": {},
   "outputs": [
    {
     "name": "stdout",
     "output_type": "stream",
     "text": [
      "['Parasitized', 'Uninfected']\n"
     ]
    }
   ],
   "source": [
    "print(os.listdir(\"./cell_images\"))"
   ]
  },
  {
   "cell_type": "markdown",
   "metadata": {},
   "source": [
    "## Path for the Image directory"
   ]
  },
  {
   "cell_type": "code",
   "execution_count": 3,
   "metadata": {},
   "outputs": [],
   "source": [
    "img_dir = './cell_images/'"
   ]
  },
  {
   "cell_type": "markdown",
   "metadata": {},
   "source": [
    "## Generating extra data from the existing data by using Data Augmentation"
   ]
  },
  {
   "cell_type": "code",
   "execution_count": 4,
   "metadata": {},
   "outputs": [],
   "source": [
    "train_datagen = ImageDataGenerator(rescale=1./255,\n",
    "                                   rotation_range=40,\n",
    "                                   width_shift_range=0.2,\n",
    "                                   height_shift_range=0.2,\n",
    "                                   shear_range=0.2,\n",
    "                                   zoom_range=0.2,\n",
    "                                   horizontal_flip=True,\n",
    "                                  validation_split=0.2)\n",
    "\n",
    "test_datagen = ImageDataGenerator(rescale=1./255)"
   ]
  },
  {
   "cell_type": "code",
   "execution_count": 5,
   "metadata": {},
   "outputs": [
    {
     "name": "stdout",
     "output_type": "stream",
     "text": [
      "Found 22048 images belonging to 2 classes.\n",
      "Found 5510 images belonging to 2 classes.\n"
     ]
    }
   ],
   "source": [
    "train_generator = train_datagen.flow_from_directory(img_dir,\n",
    "                                                    target_size=(150,150),\n",
    "                                                    batch_size=32,\n",
    "                                                    class_mode='binary',\n",
    "                                                    subset='training')\n",
    "\n",
    "validation_generator = train_datagen.flow_from_directory(img_dir,\n",
    "                                                        target_size=(150,150),\n",
    "                                                        batch_size=32,\n",
    "                                                        class_mode='binary',\n",
    "                                                        subset='validation')"
   ]
  },
  {
   "cell_type": "markdown",
   "metadata": {},
   "source": [
    "## Model Building"
   ]
  },
  {
   "cell_type": "code",
   "execution_count": 6,
   "metadata": {},
   "outputs": [],
   "source": [
    "model = models.Sequential([\n",
    "                           layers.Conv2D(32, (3,3), activation='relu', input_shape=(150, 150, 3)),\n",
    "                           layers.Conv2D(64, (3,3), activation='relu', padding='same'),\n",
    "                           layers.MaxPooling2D((2,2)),\n",
    "\n",
    "                           layers.Conv2D(64, (3,3), activation='relu', padding='same'),\n",
    "                           layers.Conv2D(128, (3,3), activation='relu', padding='same'),\n",
    "                           layers.MaxPooling2D((2,2)),\n",
    "\n",
    "                           layers.Conv2D(128, (3,3), activation='relu', padding='same'),\n",
    "                           layers.MaxPooling2D((2,2)),\n",
    "\n",
    "                           layers.Dropout((0.3)),\n",
    "                           layers.Flatten(),\n",
    "\n",
    "                           layers.Dense(512, activation='relu'),\n",
    "                           layers.Dense(1, activation='sigmoid')\n",
    "\n",
    "\n",
    "])"
   ]
  },
  {
   "cell_type": "code",
   "execution_count": 7,
   "metadata": {},
   "outputs": [
    {
     "name": "stdout",
     "output_type": "stream",
     "text": [
      "Model: \"sequential\"\n",
      "_________________________________________________________________\n",
      " Layer (type)                Output Shape              Param #   \n",
      "=================================================================\n",
      " conv2d (Conv2D)             (None, 148, 148, 32)      896       \n",
      "                                                                 \n",
      " conv2d_1 (Conv2D)           (None, 148, 148, 64)      18496     \n",
      "                                                                 \n",
      " max_pooling2d (MaxPooling2D  (None, 74, 74, 64)       0         \n",
      " )                                                               \n",
      "                                                                 \n",
      " conv2d_2 (Conv2D)           (None, 74, 74, 64)        36928     \n",
      "                                                                 \n",
      " conv2d_3 (Conv2D)           (None, 74, 74, 128)       73856     \n",
      "                                                                 \n",
      " max_pooling2d_1 (MaxPooling  (None, 37, 37, 128)      0         \n",
      " 2D)                                                             \n",
      "                                                                 \n",
      " conv2d_4 (Conv2D)           (None, 37, 37, 128)       147584    \n",
      "                                                                 \n",
      " max_pooling2d_2 (MaxPooling  (None, 18, 18, 128)      0         \n",
      " 2D)                                                             \n",
      "                                                                 \n",
      " dropout (Dropout)           (None, 18, 18, 128)       0         \n",
      "                                                                 \n",
      " flatten (Flatten)           (None, 41472)             0         \n",
      "                                                                 \n",
      " dense (Dense)               (None, 512)               21234176  \n",
      "                                                                 \n",
      " dense_1 (Dense)             (None, 1)                 513       \n",
      "                                                                 \n",
      "=================================================================\n",
      "Total params: 21,512,449\n",
      "Trainable params: 21,512,449\n",
      "Non-trainable params: 0\n",
      "_________________________________________________________________\n"
     ]
    }
   ],
   "source": [
    "model.summary()"
   ]
  },
  {
   "cell_type": "code",
   "execution_count": 8,
   "metadata": {},
   "outputs": [],
   "source": [
    "model.compile(tf.keras.optimizers.Adam(learning_rate=2e-5),\n",
    "              tf.keras.losses.binary_crossentropy,\n",
    "              metrics=['accuracy'])"
   ]
  },
  {
   "cell_type": "code",
   "execution_count": 9,
   "metadata": {},
   "outputs": [],
   "source": [
    "callback = tf.keras.callbacks.EarlyStopping(monitor='loss', patience=3)"
   ]
  },
  {
   "cell_type": "markdown",
   "metadata": {},
   "source": [
    "## Training"
   ]
  },
  {
   "cell_type": "code",
   "execution_count": 10,
   "metadata": {},
   "outputs": [
    {
     "name": "stdout",
     "output_type": "stream",
     "text": [
      "Epoch 1/20\n",
      "100/100 [==============================] - 828s 8s/step - loss: 0.6782 - accuracy: 0.5794 - val_loss: 0.6698 - val_accuracy: 0.5472\n",
      "Epoch 2/20\n",
      "100/100 [==============================] - 680s 7s/step - loss: 0.6441 - accuracy: 0.6303 - val_loss: 0.6064 - val_accuracy: 0.6976\n",
      "Epoch 3/20\n",
      "100/100 [==============================] - 678s 7s/step - loss: 0.6400 - accuracy: 0.6450 - val_loss: 0.6598 - val_accuracy: 0.5695\n",
      "Epoch 4/20\n",
      "100/100 [==============================] - 658s 7s/step - loss: 0.6171 - accuracy: 0.6600 - val_loss: 0.5884 - val_accuracy: 0.7022\n",
      "Epoch 5/20\n",
      "100/100 [==============================] - 670s 7s/step - loss: 0.6041 - accuracy: 0.6762 - val_loss: 0.5794 - val_accuracy: 0.7160\n",
      "Epoch 6/20\n",
      "100/100 [==============================] - 659s 7s/step - loss: 0.6101 - accuracy: 0.6756 - val_loss: 0.5901 - val_accuracy: 0.7013\n",
      "Epoch 7/20\n",
      "100/100 [==============================] - 664s 7s/step - loss: 0.5777 - accuracy: 0.7103 - val_loss: 0.5678 - val_accuracy: 0.7492\n",
      "Epoch 8/20\n",
      "100/100 [==============================] - 663s 7s/step - loss: 0.5519 - accuracy: 0.7394 - val_loss: 0.5598 - val_accuracy: 0.7534\n",
      "Epoch 9/20\n",
      "100/100 [==============================] - 666s 7s/step - loss: 0.5371 - accuracy: 0.7575 - val_loss: 0.4831 - val_accuracy: 0.8356\n",
      "Epoch 10/20\n",
      "100/100 [==============================] - 672s 7s/step - loss: 0.4852 - accuracy: 0.7984 - val_loss: 0.4041 - val_accuracy: 0.8713\n",
      "Epoch 11/20\n",
      "100/100 [==============================] - 668s 7s/step - loss: 0.4232 - accuracy: 0.8328 - val_loss: 0.3947 - val_accuracy: 0.8842\n",
      "Epoch 12/20\n",
      "100/100 [==============================] - 664s 7s/step - loss: 0.3876 - accuracy: 0.8506 - val_loss: 0.3246 - val_accuracy: 0.8877\n",
      "Epoch 13/20\n",
      "100/100 [==============================] - 661s 7s/step - loss: 0.3507 - accuracy: 0.8656 - val_loss: 0.3046 - val_accuracy: 0.8995\n",
      "Epoch 14/20\n",
      "100/100 [==============================] - 662s 7s/step - loss: 0.3196 - accuracy: 0.8766 - val_loss: 0.3004 - val_accuracy: 0.9007\n",
      "Epoch 15/20\n",
      "100/100 [==============================] - 676s 7s/step - loss: 0.3028 - accuracy: 0.8809 - val_loss: 0.2862 - val_accuracy: 0.8973\n",
      "Epoch 16/20\n",
      "100/100 [==============================] - 664s 7s/step - loss: 0.2757 - accuracy: 0.8950 - val_loss: 0.2728 - val_accuracy: 0.8989\n",
      "Epoch 17/20\n",
      "100/100 [==============================] - 661s 7s/step - loss: 0.2778 - accuracy: 0.8969 - val_loss: 0.2755 - val_accuracy: 0.8964\n",
      "Epoch 18/20\n",
      "100/100 [==============================] - 665s 7s/step - loss: 0.2962 - accuracy: 0.8909 - val_loss: 0.3172 - val_accuracy: 0.9000\n",
      "Epoch 19/20\n",
      "100/100 [==============================] - 664s 7s/step - loss: 0.2867 - accuracy: 0.8875 - val_loss: 0.2706 - val_accuracy: 0.8975\n"
     ]
    }
   ],
   "source": [
    "history = model.fit(train_generator,\n",
    "                             steps_per_epoch=100,\n",
    "                             epochs=20,\n",
    "                             validation_data=validation_generator,\n",
    "                            validation_steps=173,\n",
    "                           callbacks=[callback])\n",
    "\n",
    "model.save('mmodel.h5')"
   ]
  },
  {
   "cell_type": "code",
   "execution_count": 11,
   "metadata": {},
   "outputs": [
    {
     "data": {
      "text/plain": [
       "{'loss': [0.678208589553833,\n",
       "  0.6441469788551331,\n",
       "  0.6399569511413574,\n",
       "  0.6171048879623413,\n",
       "  0.6041183471679688,\n",
       "  0.6100990176200867,\n",
       "  0.577696681022644,\n",
       "  0.5518686175346375,\n",
       "  0.5371316075325012,\n",
       "  0.4852055311203003,\n",
       "  0.4231867492198944,\n",
       "  0.38761600852012634,\n",
       "  0.3507014513015747,\n",
       "  0.31958630681037903,\n",
       "  0.302799254655838,\n",
       "  0.275739461183548,\n",
       "  0.27781975269317627,\n",
       "  0.2962099015712738,\n",
       "  0.2867089509963989],\n",
       " 'accuracy': [0.5793750286102295,\n",
       "  0.6303125023841858,\n",
       "  0.6449999809265137,\n",
       "  0.6600000262260437,\n",
       "  0.6762499809265137,\n",
       "  0.6756250262260437,\n",
       "  0.7103124856948853,\n",
       "  0.7393749952316284,\n",
       "  0.7574999928474426,\n",
       "  0.7984374761581421,\n",
       "  0.832812488079071,\n",
       "  0.8506249785423279,\n",
       "  0.8656250238418579,\n",
       "  0.8765624761581421,\n",
       "  0.8809375166893005,\n",
       "  0.8949999809265137,\n",
       "  0.8968750238418579,\n",
       "  0.8909375071525574,\n",
       "  0.887499988079071],\n",
       " 'val_loss': [0.6697973012924194,\n",
       "  0.6063954830169678,\n",
       "  0.6597999930381775,\n",
       "  0.5883904099464417,\n",
       "  0.5794036984443665,\n",
       "  0.5900620818138123,\n",
       "  0.567764937877655,\n",
       "  0.5598179697990417,\n",
       "  0.4831339120864868,\n",
       "  0.40406128764152527,\n",
       "  0.3947383165359497,\n",
       "  0.32464346289634705,\n",
       "  0.3045947253704071,\n",
       "  0.3003997504711151,\n",
       "  0.28615444898605347,\n",
       "  0.27277469635009766,\n",
       "  0.2755286991596222,\n",
       "  0.31717386841773987,\n",
       "  0.2706368863582611],\n",
       " 'val_accuracy': [0.5471869111061096,\n",
       "  0.6976406574249268,\n",
       "  0.5695099830627441,\n",
       "  0.702177882194519,\n",
       "  0.7159709334373474,\n",
       "  0.7012704014778137,\n",
       "  0.7491832971572876,\n",
       "  0.7533575296401978,\n",
       "  0.8355717062950134,\n",
       "  0.8713248372077942,\n",
       "  0.8842105269432068,\n",
       "  0.8876587748527527,\n",
       "  0.8994555473327637,\n",
       "  0.9007259607315063,\n",
       "  0.8972776532173157,\n",
       "  0.8989110589027405,\n",
       "  0.8963702321052551,\n",
       "  0.8999999761581421,\n",
       "  0.8974591493606567]}"
      ]
     },
     "execution_count": 11,
     "metadata": {},
     "output_type": "execute_result"
    }
   ],
   "source": [
    "history.history"
   ]
  },
  {
   "cell_type": "markdown",
   "metadata": {},
   "source": [
    "## Results"
   ]
  },
  {
   "cell_type": "code",
   "execution_count": 12,
   "metadata": {},
   "outputs": [],
   "source": [
    "acc = history.history['accuracy']\n",
    "val_acc = history.history['val_accuracy']\n",
    "loss = history.history['loss']\n",
    "val_loss = history.history['val_loss']\n",
    "\n",
    "epochs = range(1, len(acc) + 1)"
   ]
  },
  {
   "cell_type": "code",
   "execution_count": 13,
   "metadata": {},
   "outputs": [
    {
     "name": "stdout",
     "output_type": "stream",
     "text": [
      "Training Accuracy : 0.7762664462390699\n",
      "Training Loss : 0.4666265813927901\n",
      "Validation Accuracy : 0.8002770009793734\n",
      "Validation Loss : 0.44501431207907827\n"
     ]
    }
   ],
   "source": [
    "print(f'Training Accuracy : {sum(acc)/len(acc)}')\n",
    "print(f'Training Loss : {sum(loss)/len(loss)}')\n",
    "print(f'Validation Accuracy : {sum(val_acc)/len(val_acc)}')\n",
    "print(f'Validation Loss : {sum(val_loss)/len(val_loss)}')"
   ]
  },
  {
   "cell_type": "code",
   "execution_count": 17,
   "metadata": {},
   "outputs": [
    {
     "name": "stdout",
     "output_type": "stream",
     "text": [
      "Confusion Matrix\n",
      "[[2755    0]\n",
      " [2755    0]]\n",
      "Classification Report\n",
      "              precision    recall  f1-score   support\n",
      "\n",
      " Parasitized       0.50      1.00      0.67      2755\n",
      "  Uninfected       0.00      0.00      0.00      2755\n",
      "\n",
      "    accuracy                           0.50      5510\n",
      "   macro avg       0.25      0.50      0.33      5510\n",
      "weighted avg       0.25      0.50      0.33      5510\n",
      "\n"
     ]
    },
    {
     "name": "stderr",
     "output_type": "stream",
     "text": [
      "c:\\users\\jeff mbai\\appdata\\local\\programs\\python\\python39\\lib\\site-packages\\sklearn\\metrics\\_classification.py:1318: UndefinedMetricWarning: Precision and F-score are ill-defined and being set to 0.0 in labels with no predicted samples. Use `zero_division` parameter to control this behavior.\n",
      "  _warn_prf(average, modifier, msg_start, len(result))\n",
      "c:\\users\\jeff mbai\\appdata\\local\\programs\\python\\python39\\lib\\site-packages\\sklearn\\metrics\\_classification.py:1318: UndefinedMetricWarning: Precision and F-score are ill-defined and being set to 0.0 in labels with no predicted samples. Use `zero_division` parameter to control this behavior.\n",
      "  _warn_prf(average, modifier, msg_start, len(result))\n",
      "c:\\users\\jeff mbai\\appdata\\local\\programs\\python\\python39\\lib\\site-packages\\sklearn\\metrics\\_classification.py:1318: UndefinedMetricWarning: Precision and F-score are ill-defined and being set to 0.0 in labels with no predicted samples. Use `zero_division` parameter to control this behavior.\n",
      "  _warn_prf(average, modifier, msg_start, len(result))\n"
     ]
    },
    {
     "data": {
      "image/png": "[encoded data removed]",
      "text/plain": [
       "<Figure size 432x288 with 1 Axes>"
      ]
     },
     "metadata": {
      "needs_background": "light"
     },
     "output_type": "display_data"
    },
    {
     "data": {
      "image/png": "[encoded data removed]",
      "text/plain": [
       "<Figure size 432x288 with 1 Axes>"
      ]
     },
     "metadata": {
      "needs_background": "light"
     },
     "output_type": "display_data"
    }
   ],
   "source": [
    "#precision, accuracy, F1 score, and Recall for the model\n",
    "from sklearn.metrics import classification_report, confusion_matrix\n",
    "import numpy as np\n",
    "\n",
    "Y_pred = model.predict(validation_generator, 173)\n",
    "y_pred = np.argmax(Y_pred, axis=1)\n",
    "print('Confusion Matrix')\n",
    "print(confusion_matrix(validation_generator.classes, y_pred))\n",
    "\n",
    "#plotting the accuracy and loss\n",
    "plt.plot(epochs, acc, 'bo', label='Training Accuracy')\n",
    "plt.plot(epochs, val_acc, 'b', label='Validation Accuracy')\n",
    "plt.title('Training and Validation Accuracy')\n",
    "plt.legend()\n",
    "\n",
    "plt.figure()\n",
    "\n",
    "plt.plot(epochs, loss, 'bo', label='Training Loss')\n",
    "plt.plot(epochs, val_loss, 'b', label='Validation Loss')\n",
    "plt.title('Training and Validation Loss')\n",
    "plt.legend()\n",
    "\n",
    "plt.show()\n",
    "\n"
   ]
  },
  {
   "cell_type": "code",
   "execution_count": 15,
   "metadata": {},
   "outputs": [
    {
     "name": "stdout",
     "output_type": "stream",
     "text": [
      "Confusion Matrix\n",
      "[[2755    0]\n",
      " [2755    0]]\n",
      "Confusion matrix, without normalization\n",
      "[[2755    0]\n",
      " [2755    0]]\n"
     ]
    },
    {
     "data": {
      "image/png": "[encoded data removed]",
      "text/plain": [
       "<Figure size 432x288 with 2 Axes>"
      ]
     },
     "metadata": {
      "needs_background": "light"
     },
     "output_type": "display_data"
    }
   ],
   "source": [
    "# confusion matrix\n",
    "Y_pred = model.predict(validation_generator)\n",
    "y_pred = np.argmax(Y_pred, axis=1)\n",
    "print('Confusion Matrix')\n",
    "cm = confusion_matrix(validation_generator.classes, y_pred)\n",
    "print(cm)\n",
    "\n",
    "# plot confusion matrix\n",
    "def plot_confusion_matrix(cm, classes,\n",
    "                          normalize=False,\n",
    "                          title='Confusion matrix',\n",
    "                          cmap=plt.cm.Blues):\n",
    "    \"\"\"\n",
    "    This function prints and plots the confusion matrix.\n",
    "    Normalization can be applied by setting `normalize=True`.\n",
    "    \"\"\"\n",
    "    if normalize:\n",
    "        cm = cm.astype('float') / cm.sum(axis=1)[:, np.newaxis]\n",
    "        print(\"Normalized confusion matrix\")\n",
    "    else:\n",
    "        print('Confusion matrix, without normalization')\n",
    "\n",
    "    print(cm)\n",
    "\n",
    "    plt.imshow(cm, interpolation='nearest', cmap=cmap)\n",
    "    plt.title(title)\n",
    "    plt.colorbar()\n",
    "    tick_marks = np.arange(len(classes))\n",
    "    plt.xticks(tick_marks, classes, rotation=45)\n",
    "    plt.yticks(tick_marks, classes)\n",
    "\n",
    "    fmt = '.2f' if normalize else 'd'\n",
    "    thresh = cm.max() / 2.\n",
    "    for i, j in itertools.product(range(cm.shape[0]), range(cm.shape[1])):\n",
    "        plt.text(j, i, format(cm[i, j], fmt),\n",
    "                 horizontalalignment=\"center\",\n",
    "                 color=\"white\" if cm[i, j] > thresh else \"black\")\n",
    "\n",
    "    plt.tight_layout()\n",
    "    plt.ylabel('True label')\n",
    "    plt.xlabel('Predicted label')\n",
    "\n",
    "plot_confusion_matrix(cm, classes=['Parasitized', 'Uninfected'])\n"
   ]
  },
  {
   "cell_type": "code",
   "execution_count": 16,
   "metadata": {},
   "outputs": [
    {
     "name": "stdout",
     "output_type": "stream",
     "text": [
      "Confusion Matrix\n",
      "[[2755    0]\n",
      " [2755    0]]\n",
      "Classification Report\n",
      "              precision    recall  f1-score   support\n",
      "\n",
      " Parasitized       0.50      1.00      0.67      2755\n",
      "  Uninfected       0.00      0.00      0.00      2755\n",
      "\n",
      "    accuracy                           0.50      5510\n",
      "   macro avg       0.25      0.50      0.33      5510\n",
      "weighted avg       0.25      0.50      0.33      5510\n",
      "\n"
     ]
    },
    {
     "name": "stderr",
     "output_type": "stream",
     "text": [
      "c:\\users\\jeff mbai\\appdata\\local\\programs\\python\\python39\\lib\\site-packages\\sklearn\\metrics\\_classification.py:1318: UndefinedMetricWarning: Precision and F-score are ill-defined and being set to 0.0 in labels with no predicted samples. Use `zero_division` parameter to control this behavior.\n",
      "  _warn_prf(average, modifier, msg_start, len(result))\n",
      "c:\\users\\jeff mbai\\appdata\\local\\programs\\python\\python39\\lib\\site-packages\\sklearn\\metrics\\_classification.py:1318: UndefinedMetricWarning: Precision and F-score are ill-defined and being set to 0.0 in labels with no predicted samples. Use `zero_division` parameter to control this behavior.\n",
      "  _warn_prf(average, modifier, msg_start, len(result))\n",
      "c:\\users\\jeff mbai\\appdata\\local\\programs\\python\\python39\\lib\\site-packages\\sklearn\\metrics\\_classification.py:1318: UndefinedMetricWarning: Precision and F-score are ill-defined and being set to 0.0 in labels with no predicted samples. Use `zero_division` parameter to control this behavior.\n",
      "  _warn_prf(average, modifier, msg_start, len(result))\n"
     ]
    }
   ],
   "source": [
    "# classification report\n",
    "Y_pred = model.predict(validation_generator)\n",
    "y_pred = np.argmax(Y_pred, axis=1)\n",
    "print('Confusion Matrix')\n",
    "print(confusion_matrix(validation_generator.classes, y_pred))\n",
    "print('Classification Report')\n",
    "target_names = ['Parasitized', 'Uninfected']\n",
    "print(classification_report(validation_generator.classes, y_pred, target_names=target_names))\n",
    "\n"
   ]
  },
  {
   "cell_type": "code",
   "execution_count": null,
   "metadata": {},
   "outputs": [],
   "source": []
  }
 ],
 "metadata": {
  "kernelspec": {
   "display_name": "Python 3 (ipykernel)",
   "language": "python",
   "name": "python3"
  },
  "language_info": {
   "codemirror_mode": {
    "name": "ipython",
    "version": 3
   },
   "file_extension": ".py",
   "mimetype": "text/x-python",
   "name": "python",
   "nbconvert_exporter": "python",
   "pygments_lexer": "ipython3",
   "version": "3.9.0"
  }
 },
 "nbformat": 4,
 "nbformat_minor": 4
}
